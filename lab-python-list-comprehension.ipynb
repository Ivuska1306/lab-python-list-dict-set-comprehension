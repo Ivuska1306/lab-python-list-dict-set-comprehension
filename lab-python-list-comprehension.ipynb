{
 "cells": [
  {
   "cell_type": "markdown",
   "id": "25d7736c-ba17-4aff-b6bb-66eba20fbf4e",
   "metadata": {},
   "source": [
    "# Lab | List, Dict and Set Comprehension"
   ]
  },
  {
   "cell_type": "markdown",
   "id": "7dd3cbde-675a-4b81-92c3-f728846dbe06",
   "metadata": {},
   "source": [
    "## Exercise: Managing Customer Orders Optimized with Comprehension"
   ]
  },
  {
   "cell_type": "markdown",
   "id": "5d500160-2fb7-4777-b5e4-09d45ebaf328",
   "metadata": {},
   "source": [
    "In the previous exercise, you developed a program to manage customer orders and inventory. Now, let's take it a step further and incorporate comprehension into your code.\n",
    "\n",
    "Follow the steps below to complete the exercise:\n",
    "\n",
    "1. Review your code from the previous exercise and identify areas where you can apply comprehension to simplify and streamline your code. \n",
    "\n",
    "    - *Hint: Apply it to initialize inventory, updating the inventory and printing the updated inventory.*\n",
    "    \n",
    "    - For example, in initializing the inventory, we could have:\n",
    "    \n",
    "        ```python\n",
    "        def initialize_inventory(products):\n",
    "            inventory = {product: int(input(f\"Enter the quantity of {product}s available: \")) for product in products}\n",
    "            return inventory\n",
    "\n",
    "        ```\n",
    "<br>\n",
    "    \n",
    "    \n",
    "2. Modify the function get_customer_orders so it prompts the user to enter the number of customer orders and gathers the product names using a loop and user input. Use comprehension.\n",
    "\n",
    "3. Add a new function to calculate the total price of the customer order. For each product in customer_orders, prompt the user to enter the price of that product. Use comprehension to calculate the total price. Note: assume that the user can only have 1 unit of each product.\n",
    "\n",
    "4. Modify the update_inventory function to remove the product from the inventory if its quantity becomes zero after fulfilling the customer orders. Use comprehension to filter out the products with a quantity of zero from the inventory.\n",
    "\n",
    "5. Print the total price of the customer order.\n",
    "\n",
    "Your code should produce output similar to the following:\n",
    "\n",
    "```python\n",
    "Enter the quantity of t-shirts available:  5\n",
    "Enter the quantity of mugs available:  4\n",
    "Enter the quantity of hats available:  3\n",
    "Enter the quantity of books available:  2\n",
    "Enter the quantity of keychains available:  1\n",
    "Enter the number of customer orders:  2\n",
    "Enter the name of a product that a customer wants to order:  hat\n",
    "Enter the name of a product that a customer wants to order:  keychain\n",
    "\n",
    "Order Statistics:\n",
    "Total Products Ordered: 2\n",
    "Percentage of Unique Products Ordered: 40.0\n",
    "\n",
    "Updated Inventory:\n",
    "t-shirt: 5\n",
    "mug: 4\n",
    "hat: 2\n",
    "book: 2\n",
    "Enter the price of keychain:  5\n",
    "Enter the price of hat:  10\n",
    "Total Price: 15.0\n",
    "\n",
    "```\n"
   ]
  },
  {
   "cell_type": "code",
   "execution_count": 17,
   "id": "c5748dc9-00e8-4668-91d4-2782269f0056",
   "metadata": {},
   "outputs": [
    {
     "name": "stdin",
     "output_type": "stream",
     "text": [
      "Please enter the quantity of t-shirt s available: 50\n",
      "Please enter the quantity of mug s available: 60\n",
      "Please enter the quantity of hat s available: 70\n",
      "Please enter the quantity of book s available: 80\n",
      "Please enter the quantity of keychain s available: 90\n",
      "Enter the number of customer orders: 3\n",
      "Enter the name of a product that customer wants to order: hat\n",
      "Enter the name of a product that customer wants to order: mug\n",
      "Enter the name of a product that customer wants to order: keychain\n"
     ]
    },
    {
     "name": "stdout",
     "output_type": "stream",
     "text": [
      "Order Statistics:\n",
      "Total Products Ordered: 3\n",
      "Percentage of Unique Products Ordered: 0.8645533141210375\n",
      "Updated Inventory:\n",
      "t-shirt:50\n",
      "mug:59\n",
      "hat:69\n",
      "book:80\n",
      "keychain:89\n"
     ]
    },
    {
     "name": "stdin",
     "output_type": "stream",
     "text": [
      "Enter the price of keychain: 13\n",
      "Enter the price of mug: 15\n",
      "Enter the price of hat: 18.5\n"
     ]
    },
    {
     "name": "stdout",
     "output_type": "stream",
     "text": [
      "total price:  46.5\n"
     ]
    }
   ],
   "source": [
    "products = [\"t-shirt\", \"mug\", \"hat\", \"book\", \"keychain\"]\n",
    "\n",
    "def initialize_inventory(products):\n",
    "     inventory={product: int(input(f\"Please enter the quantity of {product} s available:\")) for product in products}\n",
    "     \n",
    "     return inventory\n",
    " \n",
    "def get_customer_orders():\n",
    "    num_of_orders= int(input(\"Enter the number of customer orders:\"))\n",
    "    return{input(\"Enter the name of a product that customer wants to order:\") for i in range( num_of_orders)}\n",
    "\n",
    "def update_inventory(customer_orders,inventory):\n",
    "    inventory = {product: quantity for product, quantity in inventory.items() if quantity > 0}\n",
    "    inventory={product: inventory[product]-1 if product in customer_orders else inventory[product] for product in inventory}\n",
    "    inventory = {product: quantity for product, quantity in inventory.items() if quantity > 0}\n",
    "    return inventory\n",
    "\n",
    "def calculate_order_statistics(customer_orders, products):\n",
    "    total_products_ordered=len(customer_orders)\n",
    "    percentage_of_products_ordered=(len(customer_orders)/sum(inventory.values())*100)       # **Check later**\n",
    "    return total_products_ordered, percentage_of_products_ordered\n",
    "\n",
    "def print_order_statistics(order_statistics):\n",
    "        total_products_ordered, percentage_of_products_ordered = order_statistics\n",
    "        print(\"Order Statistics:\")\n",
    "        print(\"Total Products Ordered:\", order_statistics[0])\n",
    "        print(\"Percentage of Unique Products Ordered:\", order_statistics[1])\n",
    "\n",
    "def print_updated_inventory(inventory):\n",
    "        print(\"Updated Inventory:\")\n",
    "        [print(f\"{product}:{quantity}\") for product,quantity in inventory.items()]\n",
    "\n",
    "def calculate_total_price(customer_orders):\n",
    "    total_price= [float(input(f\"Enter the price of {product}:\")) for product in customer_orders]\n",
    "    return sum(total_price)\n",
    "       \n",
    "products = [\"t-shirt\", \"mug\", \"hat\", \"book\", \"keychain\"]  # Define the list of products\n",
    "inventory = initialize_inventory(products)  # Initializes the inventory\n",
    "customer_orders = get_customer_orders()  # Collects customer orders\n",
    "inventory = update_inventory(customer_orders, inventory)  # Updates the inventory based on customer orders\n",
    "order_statistics = calculate_order_statistics(customer_orders, products)  # Calculates order statistics\n",
    "print_order_statistics(order_statistics)  # Prints order statistics\n",
    "print_updated_inventory(inventory)  # Prints the updated inventory\n",
    "total_price = calculate_total_price(customer_orders)\n",
    "print(\"total price: \", total_price)\n",
    "    \n",
    "    "
   ]
  },
  {
   "cell_type": "code",
   "execution_count": null,
   "id": "8cfbe5c5-fd78-4383-836a-bb36948e4548",
   "metadata": {},
   "outputs": [],
   "source": []
  }
 ],
 "metadata": {
  "kernelspec": {
   "display_name": "Python 3 (ipykernel)",
   "language": "python",
   "name": "python3"
  },
  "language_info": {
   "codemirror_mode": {
    "name": "ipython",
    "version": 3
   },
   "file_extension": ".py",
   "mimetype": "text/x-python",
   "name": "python",
   "nbconvert_exporter": "python",
   "pygments_lexer": "ipython3",
   "version": "3.12.4"
  }
 },
 "nbformat": 4,
 "nbformat_minor": 5
}
